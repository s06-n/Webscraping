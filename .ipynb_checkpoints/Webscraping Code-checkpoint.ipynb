{
 "cells": [
  {
   "cell_type": "markdown",
   "id": "a84ca2b1-9de8-488b-8b2b-75085784aa5a",
   "metadata": {},
   "source": [
    "<div align=\"center\"> <h1>Web Scraping Code</h1> </div>"
   ]
  },
  {
   "cell_type": "markdown",
   "id": "0f53f62c-5294-466d-916a-c44b29d9ed3d",
   "metadata": {
    "tags": []
   },
   "source": [
    "<img src=\"https://images.unsplash.com/photo-1492515114975-b062d1a270ae?q=80&w=2940&auto=format&fit=crop&ixlib=rb-4.0.3&ixid=M3wxMjA3fDB8MHxwaG90by1wYWdlfHx8fGVufDB8fHx8fA%3D%3D\" style=\"width:100%; height:200px; object-fit:cover;\" />"
   ]
  },
  {
   "cell_type": "code",
   "execution_count": 1,
   "id": "feca7c69-fdc8-454b-8c6b-9f865a6bdc9a",
   "metadata": {
    "tags": []
   },
   "outputs": [],
   "source": [
    "## Import our libraries\n",
    "\n",
    "from bs4 import BeautifulSoup  ## the BeautifulSoup library for scraping from the bs4 package\n",
    "import requests ## Establish website connection using the requests library\n",
    "import pandas as pd\n",
    "import numpy as np\n",
    "import re ## RegEx for pattern matching"
   ]
  },
  {
   "cell_type": "code",
   "execution_count": 3,
   "id": "396fb02d-64e3-4488-ace5-ad0401dd412f",
   "metadata": {
    "tags": []
   },
   "outputs": [],
   "source": [
    "# function to get the site (with right page number) for each page\n",
    "def sites():\n",
    "  sites = []\n",
    "  for i in range(1,51):\n",
    "    sites.append(f'https://books.toscrape.com/catalogue/category/books_1/page-{i}.html')\n",
    "  return sites"
   ]
  },
  {
   "cell_type": "code",
   "execution_count": 5,
   "id": "768bd16a-9034-476c-b257-d67c2fda2fdb",
   "metadata": {
    "tags": []
   },
   "outputs": [],
   "source": [
    "sites = sites()"
   ]
  },
  {
   "cell_type": "code",
   "execution_count": 7,
   "id": "4a617b3d-05d3-45d9-b1f3-7c51147a2516",
   "metadata": {
    "tags": []
   },
   "outputs": [],
   "source": [
    "# function for book links\n",
    "def book_links(sites):\n",
    "  book_links = []\n",
    "  for site in sites:\n",
    "    resp = requests.get(site)\n",
    "    soup = BeautifulSoup(resp.text, \n",
    "              'html.parser') \n",
    "    book_links_page = ['https://books.toscrape.com/catalogue/' + link.get('href')[6:] for link in soup.find('ol').findAll('a')]\n",
    "    book_links.extend(book_links_page)\n",
    "  book_links = set(book_links)\n",
    "  return book_links"
   ]
  },
  {
   "cell_type": "code",
   "execution_count": 9,
   "id": "ec90bcb3-cfb8-4ee4-8c1d-01039e6ea68d",
   "metadata": {
    "tags": []
   },
   "outputs": [],
   "source": [
    "book_links = book_links(sites)"
   ]
  },
  {
   "cell_type": "code",
   "execution_count": 10,
   "id": "29850032-ddba-4d45-bfcc-ccf470cf54bc",
   "metadata": {
    "tags": []
   },
   "outputs": [
    {
     "data": {
      "text/plain": [
       "1000"
      ]
     },
     "execution_count": 10,
     "metadata": {},
     "output_type": "execute_result"
    }
   ],
   "source": [
    "len(book_links) # there are a 1000 books on this site"
   ]
  },
  {
   "cell_type": "code",
   "execution_count": 11,
   "id": "44568084-d863-4ac7-b064-d1f5b707adcb",
   "metadata": {
    "tags": []
   },
   "outputs": [],
   "source": [
    "# function for appending book name and category\n",
    "def book_info(book_links):\n",
    "  book_name = []\n",
    "  category = []\n",
    "  for link in book_links:\n",
    "    resp = requests.get(link)\n",
    "    soup = BeautifulSoup(resp.text,\n",
    "                     'html.parser')\n",
    "    book_name.append(soup.h1.text)\n",
    "    category.append(soup.find('ul', class_ = 'breadcrumb').findAll('a')[2].text)\n",
    "  return book_name, category"
   ]
  },
  {
   "cell_type": "code",
   "execution_count": 12,
   "id": "8fc67f3c-abe6-4c3f-9ed2-e2a2174c396e",
   "metadata": {
    "tags": []
   },
   "outputs": [],
   "source": [
    "book_title, category = book_info(book_links)"
   ]
  },
  {
   "cell_type": "code",
   "execution_count": 13,
   "id": "b2959645-c2a4-49d5-91cb-8bd5d7defb2f",
   "metadata": {
    "tags": []
   },
   "outputs": [],
   "source": [
    "df_books = pd.DataFrame(list(zip(book_title, category)),\n",
    "              columns=['Title', 'Category'])"
   ]
  },
  {
   "cell_type": "code",
   "execution_count": 14,
   "id": "178472a9-3706-4a8d-8f85-787ee14d0175",
   "metadata": {
    "tags": []
   },
   "outputs": [
    {
     "data": {
      "text/html": [
       "<div>\n",
       "<style scoped>\n",
       "    .dataframe tbody tr th:only-of-type {\n",
       "        vertical-align: middle;\n",
       "    }\n",
       "\n",
       "    .dataframe tbody tr th {\n",
       "        vertical-align: top;\n",
       "    }\n",
       "\n",
       "    .dataframe thead th {\n",
       "        text-align: right;\n",
       "    }\n",
       "</style>\n",
       "<table border=\"1\" class=\"dataframe\">\n",
       "  <thead>\n",
       "    <tr style=\"text-align: right;\">\n",
       "      <th></th>\n",
       "      <th>Title</th>\n",
       "      <th>Category</th>\n",
       "    </tr>\n",
       "  </thead>\n",
       "  <tbody>\n",
       "    <tr>\n",
       "      <th>0</th>\n",
       "      <td>Soft Apocalypse</td>\n",
       "      <td>Science Fiction</td>\n",
       "    </tr>\n",
       "    <tr>\n",
       "      <th>1</th>\n",
       "      <td>The Bear and the Piano</td>\n",
       "      <td>Childrens</td>\n",
       "    </tr>\n",
       "    <tr>\n",
       "      <th>2</th>\n",
       "      <td>Anonymous</td>\n",
       "      <td>Default</td>\n",
       "    </tr>\n",
       "    <tr>\n",
       "      <th>3</th>\n",
       "      <td>Dear Mr. Knightley</td>\n",
       "      <td>Fiction</td>\n",
       "    </tr>\n",
       "    <tr>\n",
       "      <th>4</th>\n",
       "      <td>Proofs of God: Classical Arguments from Tertul...</td>\n",
       "      <td>Philosophy</td>\n",
       "    </tr>\n",
       "    <tr>\n",
       "      <th>...</th>\n",
       "      <td>...</td>\n",
       "      <td>...</td>\n",
       "    </tr>\n",
       "    <tr>\n",
       "      <th>995</th>\n",
       "      <td>Where'd You Go, Bernadette</td>\n",
       "      <td>Default</td>\n",
       "    </tr>\n",
       "    <tr>\n",
       "      <th>996</th>\n",
       "      <td>The E-Myth Revisited: Why Most Small Businesse...</td>\n",
       "      <td>Business</td>\n",
       "    </tr>\n",
       "    <tr>\n",
       "      <th>997</th>\n",
       "      <td>The Power Greens Cookbook: 140 Delicious Super...</td>\n",
       "      <td>Food and Drink</td>\n",
       "    </tr>\n",
       "    <tr>\n",
       "      <th>998</th>\n",
       "      <td>Out of Print: City Lights Spotlight No. 14</td>\n",
       "      <td>Poetry</td>\n",
       "    </tr>\n",
       "    <tr>\n",
       "      <th>999</th>\n",
       "      <td>Peak: Secrets from the New Science of Expertise</td>\n",
       "      <td>Science</td>\n",
       "    </tr>\n",
       "  </tbody>\n",
       "</table>\n",
       "<p>1000 rows × 2 columns</p>\n",
       "</div>"
      ],
      "text/plain": [
       "                                                 Title         Category\n",
       "0                                      Soft Apocalypse  Science Fiction\n",
       "1                               The Bear and the Piano        Childrens\n",
       "2                                            Anonymous          Default\n",
       "3                                   Dear Mr. Knightley          Fiction\n",
       "4    Proofs of God: Classical Arguments from Tertul...       Philosophy\n",
       "..                                                 ...              ...\n",
       "995                         Where'd You Go, Bernadette          Default\n",
       "996  The E-Myth Revisited: Why Most Small Businesse...         Business\n",
       "997  The Power Greens Cookbook: 140 Delicious Super...   Food and Drink\n",
       "998         Out of Print: City Lights Spotlight No. 14           Poetry\n",
       "999    Peak: Secrets from the New Science of Expertise          Science\n",
       "\n",
       "[1000 rows x 2 columns]"
      ]
     },
     "execution_count": 14,
     "metadata": {},
     "output_type": "execute_result"
    }
   ],
   "source": [
    "df_books"
   ]
  },
  {
   "cell_type": "markdown",
   "id": "a4bf707a-b1be-4b63-95e3-37ea02702f55",
   "metadata": {},
   "source": [
    "Exercise 3: (FINAL EXERCISE) Scrape the website! We want a dataframe that has the following columns:\n",
    "\n",
    "Book_name || Book_link || Category || Category_link || Book_stock_availability || Book_price || Book_UPC || Book_Tax || Book_number_of_reviews || Book_description\n",
    "\n",
    "Notes:\n",
    "\n",
    "The book name should be in full, not abbreviated\n",
    "\n",
    "The links should be working as they are (not just the end extension)\n",
    "\n",
    "Stock availability should contain the # of products available; Eg: In stock (8 available)\n",
    "\n",
    "Price and Tax should be consistent (either both have the £ sign, or neither do)"
   ]
  }
 ],
 "metadata": {
  "kernelspec": {
   "display_name": "Python 3 (ipykernel)",
   "language": "python",
   "name": "python3"
  },
  "language_info": {
   "codemirror_mode": {
    "name": "ipython",
    "version": 3
   },
   "file_extension": ".py",
   "mimetype": "text/x-python",
   "name": "python",
   "nbconvert_exporter": "python",
   "pygments_lexer": "ipython3",
   "version": "3.11.7"
  }
 },
 "nbformat": 4,
 "nbformat_minor": 5
}
